{
 "cells": [
  {
   "cell_type": "code",
   "execution_count": 1,
   "metadata": {},
   "outputs": [],
   "source": [
    "from tensorflow.keras.applications.mobilenet_v2 import preprocess_input\n",
    "from tensorflow.keras.preprocessing.image import img_to_array\n",
    "from tensorflow.keras.models import load_model\n",
    "from imutils.video import VideoStream\n",
    "import numpy as np\n",
    "import imutils\n",
    "import time\n",
    "import cv2\n",
    "import os\n",
    "import pickle\n",
    "import socket\n",
    "import struct\n",
    "import time\n",
    "import cv2\n",
    "from socket import SOCK_SEQPACKET\n",
    "from queue import Queue\n",
    "import threading\n",
    "import sqlite3 as db\n",
    "import datetime\n",
    "maskDB = db.connect(\"maskDB.db\")\n",
    "cur = maskDB.cursor()\n",
    "cur.execute(\"CREATE TABLE IF NOT EXISTS maskData(srno INTEGER PRIMARY KEY AUTOINCREMENT, date DATE, time TIME, address TEXT, temp INTEGER, imageLoc TEXT)\")\n",
    "maskDB.commit()"
   ]
  },
  {
   "cell_type": "code",
   "execution_count": 2,
   "metadata": {},
   "outputs": [],
   "source": [
    "def checkMask(frame):\n",
    "    \n",
    "    prototxtPath = r\"C:\\Users\\vasu2\\Desktop\\Mask_Detection_BE\\face_detector\\deploy.prototxt\"\n",
    "    weightsPath = r\"C:\\Users\\vasu2\\Desktop\\Mask_Detection_BE\\face_detector\\res10_300x300_ssd_iter_140000.caffemodel\"\n",
    "    faceNet = cv2.dnn.readNet(prototxtPath, weightsPath)\n",
    "\n",
    "    maskNet = load_model(r\"C:\\Users\\vasu2\\Desktop\\Mask Detection Test\\maskdata\\MaskDetectionModel\")\n",
    "\n",
    "\n",
    "    frame = imutils.resize(frame, width=400)\n",
    "    assert not isinstance(frame,type(None)), 'frame not found'\n",
    "    preds = detect_and_predict_mask(frame, faceNet, maskNet)\n",
    "\n",
    "    \n",
    "    pred = zip(preds)\n",
    "\n",
    "    try:\n",
    "        str = list(pred)[0][0]\n",
    "    except:\n",
    "        return 3\n",
    "    \n",
    "    if str[0] > str[1]:\n",
    "        return 1\n",
    "    else:\n",
    "        return 2"
   ]
  },
  {
   "cell_type": "code",
   "execution_count": 3,
   "metadata": {},
   "outputs": [],
   "source": [
    "def detect_and_predict_mask(frame, faceNet, maskNet):\n",
    "    \n",
    "    (h, w) = frame.shape[:2]\n",
    "    blob = cv2.dnn.blobFromImage(frame, 1.0, (224, 224),\n",
    "        (104.0, 177.0, 123.0))\n",
    "\n",
    "    faceNet.setInput(blob)\n",
    "    detections = faceNet.forward()\n",
    "    \n",
    "    faces = []\n",
    "    locs = []\n",
    "    preds = []\n",
    "\n",
    "    for i in range(0, detections.shape[2]):\n",
    "        confidence = detections[0, 0, i, 2]\n",
    "\n",
    "        if confidence > 0.5:\n",
    "        \n",
    "            box = detections[0, 0, i, 3:7] * np.array([w, h, w, h])\n",
    "            (startX, startY, endX, endY) = box.astype(\"int\")\n",
    "\n",
    "            (startX, startY) = (max(0, startX), max(0, startY))\n",
    "            (endX, endY) = (min(w - 1, endX), min(h - 1, endY))\n",
    "        \n",
    "            face = frame[startY:endY, startX:endX]\n",
    "            face = cv2.cvtColor(face, cv2.COLOR_BGR2RGB)\n",
    "    \n",
    "            \n",
    "            \n",
    "            face = cv2.resize(face, (224, 224))\n",
    "            face = img_to_array(face)\n",
    "            face = preprocess_input(face)\n",
    "\n",
    "            faces.append(face)\n",
    "            locs.append((startX, startY, endX, endY))\n",
    "            \n",
    "        \n",
    "            \n",
    "    if len(faces) > 0:\n",
    "        faces = np.array(faces, dtype=\"float32\")\n",
    "        preds = maskNet.predict(faces, batch_size=32)\n",
    "    return preds"
   ]
  },
  {
   "cell_type": "code",
   "execution_count": 4,
   "metadata": {},
   "outputs": [],
   "source": [
    "HOST = '192.168.0.126'\n",
    "PORT = 8089\n",
    "global conn\n",
    "\n",
    "a = \"MASK!\"\n",
    "b = \"NO MASK!\"\n",
    "c = \"FACE NOT DETECTED!\"\n",
    "result = \"\"\n",
    "\n",
    "\n",
    "def createSocket():\n",
    "    global s\n",
    "    try:\n",
    "        s = socket.socket(socket.AF_INET, socket.SOCK_STREAM)\n",
    "        print('Socket created')\n",
    "    except socket.error as e:\n",
    "        print(\"Error: \" + str(e))\n",
    "\n",
    "        \n",
    "        \n",
    "def socketBind():\n",
    "    global s\n",
    "    try:\n",
    "        s.bind((HOST, PORT))\n",
    "        print('Socket bind complete')\n",
    "    except socket.error as e:\n",
    "        print(\"Error: \" + str(e))\n",
    "\n",
    "\n",
    "        \n",
    "        \n",
    "def socketListen():\n",
    "    global s\n",
    "    global conn\n",
    "    global address\n",
    "    \n",
    "    s.listen(10)\n",
    "    conn, address = s.accept()\n",
    "    print(f\"Connection from {address} has been established.\")\n",
    "\n",
    "\n",
    "\n",
    "\n",
    "def reteriveData():\n",
    "    global s\n",
    "    global conn\n",
    "    global address\n",
    "    global data\n",
    "    global frame_data\n",
    "    rawCode = ''\n",
    "    code = ''\n",
    "    rawTemp = ''\n",
    "    temp = ''\n",
    "    \n",
    "    rawCode = conn.recv(8)\n",
    "    code = rawCode.decode()\n",
    "        \n",
    "        \n",
    "    data = b'' ### CHANGED\n",
    "    payload_size = struct.calcsize(\"L\") ### CHANGED\n",
    "    # Retrieve message size\n",
    "    while len(data) < payload_size:\n",
    "        data += conn.recv(4096)\n",
    "\n",
    "    packed_msg_size = data[:payload_size]\n",
    "    data = data[payload_size:]\n",
    "    msg_size = struct.unpack(\"L\", packed_msg_size)[0] ### CHANGED\n",
    "\n",
    "    # Retrieve all data based on message size\n",
    "    while len(data) < msg_size:\n",
    "        data += conn.recv(4096)\n",
    "\n",
    "    frame_data = data[:msg_size]\n",
    "    data = data[msg_size:]\n",
    "    \n",
    "    \n",
    "    print(code)   \n",
    "    if code == 'x':\n",
    "        extractFrame()\n",
    "        sendReply()\n",
    "        \n",
    "    else:\n",
    "        #rawTemp = conn.recv(8)\n",
    "      \n",
    "        #temp = rawTemp.decode()\n",
    "        conn.close()\n",
    "        storeData(frame_data, code)\n",
    "        \n",
    "def storeData(frame_data, temp):\n",
    "    global address\n",
    "    frame = pickle.loads(frame_data)\n",
    "    print(temp)\n",
    "    path = r\"C:\\Users\\vasu2\\Desktop\\noMaskImages\"\n",
    "    dateTimeList = []\n",
    "    dateTimeList = str(datetime.datetime.now()).split(\" \")\n",
    "    loc = dateTimeList[0] +\"-\"+ dateTimeList[1].split(\".\")[0].replace(\":\",\"-\") + \".bmp\"\n",
    "    print(cv2.imwrite(str(os.path.join(path , loc)),frame))\n",
    "    cur.execute(\"INSERT INTO maskData(date,time,address,temp,imageLoc) VALUES (?,?,?,?,?);\", (dateTimeList[0],dateTimeList[1],str(address),str(temp),loc))\n",
    "    maskDB.commit()\n",
    "    showDataBase()\n",
    "        \n",
    "def showDataBase():\n",
    "    cur.execute(\"SELECT * FROM maskData\")\n",
    "    while True:\n",
    "        record=cur.fetchone()\n",
    "        if record==None:\n",
    "            break\n",
    "        print (record)\n",
    "\n",
    "    \n",
    "def extractFrame():\n",
    "    global s\n",
    "    global frame_data\n",
    "    global result\n",
    "    # Extract frame\n",
    "    t0= time.time()\n",
    "    frame = pickle.loads(frame_data)\n",
    "    \n",
    "    t1= time.time()\n",
    "    i = checkMask(frame)\n",
    "    print(\"\\nPickle Time: \", t1-t0)\n",
    "    print(\"\\nCheck Time: \", time.time()-t1,\"\\n\\n\")\n",
    "    \n",
    "    print (i)\n",
    "    if i == 1:\n",
    "        result = a\n",
    "    elif i == 2:\n",
    "        result = b\n",
    "    elif i == 3:\n",
    "        result = c\n",
    "    \n",
    "    \n",
    "\n",
    "def sendReply():\n",
    "    global conn\n",
    "    global address\n",
    "    global result\n",
    "    print (result)\n",
    "    conn.send(bytes(result,\"utf-8\"))\n",
    "    conn.close()\n",
    "\n",
    "        \n",
    "def executeSystem():\n",
    "    createSocket()\n",
    "    socketBind()\n",
    "    \n",
    "    \n",
    "    while True:\n",
    "        socketListen()\n",
    "        reteriveData()\n",
    "\n",
    "    #reateThreads()\n",
    "    #reateJobs()"
   ]
  },
  {
   "cell_type": "code",
   "execution_count": null,
   "metadata": {},
   "outputs": [
    {
     "name": "stdout",
     "output_type": "stream",
     "text": [
      "Socket created\n",
      "Socket bind complete\n",
      "Connection from ('192.168.0.163', 34892) has been established.\n",
      "x\n",
      "\n",
      "Pickle Time:  0.0\n",
      "\n",
      "Check Time:  1.6151454448699951 \n",
      "\n",
      "\n",
      "2\n",
      "NO MASK!\n",
      "Connection from ('192.168.0.163', 34894) has been established.\n",
      "84\n",
      "84\n",
      "True\n",
      "(1, '2021-03-28', '23:24:39.685779', \"('192.168.0.163', 59874)\", 71, 'jjf')\n",
      "(2, '2021-03-28', '23:25:47.981854', \"('192.168.0.163', 60004)\", 70, 'jjf')\n",
      "(3, '2021-03-28', '23:44:24.730362', \"('192.168.0.163', 60660)\", 77, '2021-03-28 23:44:24.730362.jpg')\n",
      "(4, '2021-03-28', '23:49:43.209210', \"('192.168.0.163', 60666)\", 79, '2021-03-28 23:49:43.209210.jpg')\n",
      "(5, '2021-03-28', '23:53:47.912482', \"('192.168.0.163', 32810)\", 80, '2021-03-28 23:53:47.913453.jpg')\n",
      "(6, '2021-03-28', '23:54:12.438094', \"('192.168.0.163', 32940)\", 80, '2021-03-28 23:54:12.438094.jpg')\n",
      "(7, '2021-03-28', '23:54:17.709552', \"('192.168.0.163', 32944)\", 80, '2021-03-28 23:54:17.709552.jpg')\n",
      "(8, '2021-03-28', '23:54:24.951381', \"('192.168.0.163', 32948)\", 80, '2021-03-28 23:54:24.952377.jpg')\n",
      "(9, '2021-03-28', '23:54:29.303197', \"('192.168.0.163', 32952)\", 80, '2021-03-28 23:54:29.303197.jpg')\n",
      "(10, '2021-03-28', '23:55:46.499871', \"('192.168.0.163', 33170)\", 80, '2021-03-28 23:55:46.499871.jpg')\n",
      "(11, '2021-03-28', '23:55:52.731302', \"('192.168.0.163', 33174)\", 80, '2021-03-28 23:55:52.731302.jpg')\n",
      "(12, '2021-03-29', '00:00:59.620255', \"('192.168.0.163', 33178)\", 81, '2021-03-29 00:00:59.621251.jpg')\n",
      "(13, '2021-03-29', '00:01:25.756396', \"('192.168.0.163', 33182)\", 81, '2021-03-29 00:01:25.756396.jpg')\n",
      "(14, '2021-03-29', '00:03:58.820803', \"('192.168.0.163', 33186)\", 81, '2021-03-29 00:03:58.820803.jpg')\n",
      "(15, '2021-03-29', '00:08:17.224919', \"('192.168.0.163', 33190)\", 81, '2021-03-29 00:08:17.225918.jpg')\n",
      "(16, '2021-03-29', '00:08:37.466734', \"('192.168.0.163', 33194)\", 81, '2021-03-29 00:08:37.467731.jpg')\n",
      "(17, '2021-03-29', '00:09:16.758216', \"('192.168.0.163', 33198)\", 81, '2021-03-29 00:09:16.758216.jpg')\n",
      "(18, '2021-03-29', '00:09:26.250522', \"('192.168.0.163', 33202)\", 82, '2021-03-29 00:09:26.250522.jpg')\n",
      "(19, '2021-03-29', '00:09:50.209543', \"('192.168.0.163', 33206)\", 81, '2021-03-29 00:09:50.209543.jpg')\n",
      "(20, '2021-03-29', '00:10:35.672634', \"('192.168.0.163', 33210)\", 82, '2021-03-29 00:10:35.673632.jpg')\n",
      "(21, '2021-03-29', '00:14:19.621775', \"('192.168.0.163', 33428)\", 82, '2021-03-29 00:14:19.668051.jpg')\n",
      "(22, '2021-03-29', '00:17:58.811640', \"('192.168.0.163', 33432)\", 82, '2021-03-29 00:17:58.811640.bmp')\n",
      "(23, '2021-03-29', '00:20:15.059112', \"('192.168.0.163', 33438)\", 82, '2021-03-29 00:20:15.059112.bmp')\n",
      "(24, '2021-03-29', '00:32:58.790104', \"('192.168.0.163', 33654)\", 83, '2021-03-29 00:32:58.790104.bmp')\n",
      "(25, '2021-03-29', '00:33:06.420770', \"('192.168.0.163', 33658)\", 83, '2021-03-29 00:33:06.421767.bmp')\n",
      "(26, '2021-03-29', '00:33:16.324479', \"('192.168.0.163', 33662)\", 83, '2021-03-29 00:33:16.324479.bmp')\n",
      "(27, '2021-03-29', '00:33:21.562233', \"('192.168.0.163', 33666)\", 83, '2021-03-29 00:33:21.562233.bmp')\n",
      "(28, '2021-03-29', '00:33:27.521132', \"('192.168.0.163', 33670)\", 83, '2021-03-29 00:33:27.521132.bmp')\n",
      "(29, '2021-03-29', '00:33:33.495088', \"('192.168.0.163', 33674)\", 83, '2021-03-29 00:33:33.496089.bmp')\n",
      "(30, '2021-03-29', '00:33:37.750473', \"('192.168.0.163', 33678)\", 83, '2021-03-29 00:33:37.750473.bmp')\n",
      "(31, '2021-03-29', '00:33:44.022661', \"('192.168.0.163', 33682)\", 83, '2021-03-29 00:33:44.022661.bmp')\n",
      "(32, '2021-03-29', '00:33:48.341978', \"('192.168.0.163', 33686)\", 83, '2021-03-29 00:33:48.341978.bmp')\n",
      "(33, '2021-03-29', '00:34:24.126344', \"('192.168.0.163', 33900)\", 83, '2021-03-29 00:34:24.126344.bmp')\n",
      "(34, '2021-03-29', '00:34:52.442385', \"('192.168.0.163', 33904)\", 83, '2021-03-29 00:34:52.442385.bmp')\n",
      "(35, '2021-03-29', '00:38:25.420554', \"('192.168.0.163', 34032)\", 83, '2021-03-29 00:38:25.420554.bmp')\n",
      "(36, '2021-03-29', '00:39:09.029011', \"('192.168.0.163', 34312)\", 83, '2021-03-29 00:39:09.029011.bmp')\n",
      "(37, '2021-03-29', '00:40:35.199149', \"('192.168.0.163', 34316)\", 83, '2021-03-29 00:40:35.199149.bmp')\n",
      "(38, '2021-03-29', '00:43:40.617144', \"('192.168.0.163', 34676)\", 83, '2021-03-29 00:43:40.617144.bmp')\n",
      "(39, '2021-03-29', '00:44:37.506617', \"('192.168.0.163', 34680)\", 83, '2021-03-29 00:44:37.506617.bmp')\n",
      "(40, '2021-03-29', '00:46:54.970242', \"('192.168.0.163', 34684)\", 84, '2021-03-29 00:46:54.970242.bmp')\n",
      "(41, '2021-03-29', '00:55:08.634282', \"('192.168.0.163', 34876)\", 83, '2021-03-29-00:55:08')\n",
      "(42, '2021-03-29', '00:56:10.081040', \"('192.168.0.163', 34880)\", 83, '2021-03-29')\n",
      "(43, '2021-03-29', '00:59:29.477514', \"('192.168.0.163', 34894)\", 84, '2021-03-29-00-59-29.bmp')\n"
     ]
    }
   ],
   "source": [
    "executeSystem()"
   ]
  },
  {
   "cell_type": "code",
   "execution_count": null,
   "metadata": {},
   "outputs": [],
   "source": [
    "# socket -> bind -> listen -> accept\n",
    "\n",
    "\n",
    "# receiveframe - > checkformask -> reply\n",
    "\n",
    "\n",
    "# rpi -> connect -> framesend -> reply -> condition\n",
    "\n",
    "\n",
    "\n",
    "# 1) time -> 30 - 40sec and sensor issue\n",
    "# 2) time -> 4sec ( system was designed to check for mask twice)"
   ]
  },
  {
   "cell_type": "code",
   "execution_count": null,
   "metadata": {},
   "outputs": [],
   "source": [
    "dateTimeList = []\n",
    "dateTimeList = str(datetime.datetime.now()).split(\" \")\n",
    "loc = dateTimeList[0] +\"-\"+ dateTimeList[1].split(\".\")[0].replace(\":\",\"-\") + \".bmp\"\n",
    "loc"
   ]
  },
  {
   "cell_type": "code",
   "execution_count": null,
   "metadata": {},
   "outputs": [],
   "source": [
    "cur.ex"
   ]
  },
  {
   "cell_type": "code",
   "execution_count": null,
   "metadata": {},
   "outputs": [],
   "source": [
    "cur.execute(\"DROP TABLE maskData\")\n",
    "maskDB.commit()"
   ]
  },
  {
   "cell_type": "code",
   "execution_count": 1,
   "metadata": {},
   "outputs": [],
   "source": [
    "import sqlite3 as db\n",
    "import datetime\n",
    "maskDB = db.connect(\"maskDB.db\")\n",
    "cur = maskDB.cursor()"
   ]
  },
  {
   "cell_type": "code",
   "execution_count": 2,
   "metadata": {},
   "outputs": [
    {
     "data": {
      "text/plain": [
       "<sqlite3.Cursor at 0x2929cfc27a0>"
      ]
     },
     "execution_count": 2,
     "metadata": {},
     "output_type": "execute_result"
    }
   ],
   "source": [
    "cur.execute(\"SELECT * FROM maskData\")"
   ]
  },
  {
   "cell_type": "code",
   "execution_count": 3,
   "metadata": {},
   "outputs": [
    {
     "name": "stdout",
     "output_type": "stream",
     "text": [
      "(1, '2021-03-28', '23:24:39.685779', \"('192.168.0.163', 59874)\", 71, 'jjf')\n",
      "(2, '2021-03-28', '23:25:47.981854', \"('192.168.0.163', 60004)\", 70, 'jjf')\n",
      "(3, '2021-03-28', '23:44:24.730362', \"('192.168.0.163', 60660)\", 77, '2021-03-28 23:44:24.730362.jpg')\n",
      "(4, '2021-03-28', '23:49:43.209210', \"('192.168.0.163', 60666)\", 79, '2021-03-28 23:49:43.209210.jpg')\n",
      "(5, '2021-03-28', '23:53:47.912482', \"('192.168.0.163', 32810)\", 80, '2021-03-28 23:53:47.913453.jpg')\n",
      "(6, '2021-03-28', '23:54:12.438094', \"('192.168.0.163', 32940)\", 80, '2021-03-28 23:54:12.438094.jpg')\n",
      "(7, '2021-03-28', '23:54:17.709552', \"('192.168.0.163', 32944)\", 80, '2021-03-28 23:54:17.709552.jpg')\n",
      "(8, '2021-03-28', '23:54:24.951381', \"('192.168.0.163', 32948)\", 80, '2021-03-28 23:54:24.952377.jpg')\n",
      "(9, '2021-03-28', '23:54:29.303197', \"('192.168.0.163', 32952)\", 80, '2021-03-28 23:54:29.303197.jpg')\n",
      "(10, '2021-03-28', '23:55:46.499871', \"('192.168.0.163', 33170)\", 80, '2021-03-28 23:55:46.499871.jpg')\n",
      "(11, '2021-03-28', '23:55:52.731302', \"('192.168.0.163', 33174)\", 80, '2021-03-28 23:55:52.731302.jpg')\n",
      "(12, '2021-03-29', '00:00:59.620255', \"('192.168.0.163', 33178)\", 81, '2021-03-29 00:00:59.621251.jpg')\n",
      "(13, '2021-03-29', '00:01:25.756396', \"('192.168.0.163', 33182)\", 81, '2021-03-29 00:01:25.756396.jpg')\n",
      "(14, '2021-03-29', '00:03:58.820803', \"('192.168.0.163', 33186)\", 81, '2021-03-29 00:03:58.820803.jpg')\n",
      "(15, '2021-03-29', '00:08:17.224919', \"('192.168.0.163', 33190)\", 81, '2021-03-29 00:08:17.225918.jpg')\n",
      "(16, '2021-03-29', '00:08:37.466734', \"('192.168.0.163', 33194)\", 81, '2021-03-29 00:08:37.467731.jpg')\n",
      "(17, '2021-03-29', '00:09:16.758216', \"('192.168.0.163', 33198)\", 81, '2021-03-29 00:09:16.758216.jpg')\n",
      "(18, '2021-03-29', '00:09:26.250522', \"('192.168.0.163', 33202)\", 82, '2021-03-29 00:09:26.250522.jpg')\n",
      "(19, '2021-03-29', '00:09:50.209543', \"('192.168.0.163', 33206)\", 81, '2021-03-29 00:09:50.209543.jpg')\n",
      "(20, '2021-03-29', '00:10:35.672634', \"('192.168.0.163', 33210)\", 82, '2021-03-29 00:10:35.673632.jpg')\n",
      "(21, '2021-03-29', '00:14:19.621775', \"('192.168.0.163', 33428)\", 82, '2021-03-29 00:14:19.668051.jpg')\n",
      "(22, '2021-03-29', '00:17:58.811640', \"('192.168.0.163', 33432)\", 82, '2021-03-29 00:17:58.811640.bmp')\n",
      "(23, '2021-03-29', '00:20:15.059112', \"('192.168.0.163', 33438)\", 82, '2021-03-29 00:20:15.059112.bmp')\n",
      "(24, '2021-03-29', '00:32:58.790104', \"('192.168.0.163', 33654)\", 83, '2021-03-29 00:32:58.790104.bmp')\n",
      "(25, '2021-03-29', '00:33:06.420770', \"('192.168.0.163', 33658)\", 83, '2021-03-29 00:33:06.421767.bmp')\n",
      "(26, '2021-03-29', '00:33:16.324479', \"('192.168.0.163', 33662)\", 83, '2021-03-29 00:33:16.324479.bmp')\n",
      "(27, '2021-03-29', '00:33:21.562233', \"('192.168.0.163', 33666)\", 83, '2021-03-29 00:33:21.562233.bmp')\n",
      "(28, '2021-03-29', '00:33:27.521132', \"('192.168.0.163', 33670)\", 83, '2021-03-29 00:33:27.521132.bmp')\n",
      "(29, '2021-03-29', '00:33:33.495088', \"('192.168.0.163', 33674)\", 83, '2021-03-29 00:33:33.496089.bmp')\n",
      "(30, '2021-03-29', '00:33:37.750473', \"('192.168.0.163', 33678)\", 83, '2021-03-29 00:33:37.750473.bmp')\n",
      "(31, '2021-03-29', '00:33:44.022661', \"('192.168.0.163', 33682)\", 83, '2021-03-29 00:33:44.022661.bmp')\n",
      "(32, '2021-03-29', '00:33:48.341978', \"('192.168.0.163', 33686)\", 83, '2021-03-29 00:33:48.341978.bmp')\n",
      "(33, '2021-03-29', '00:34:24.126344', \"('192.168.0.163', 33900)\", 83, '2021-03-29 00:34:24.126344.bmp')\n",
      "(34, '2021-03-29', '00:34:52.442385', \"('192.168.0.163', 33904)\", 83, '2021-03-29 00:34:52.442385.bmp')\n",
      "(35, '2021-03-29', '00:38:25.420554', \"('192.168.0.163', 34032)\", 83, '2021-03-29 00:38:25.420554.bmp')\n",
      "(36, '2021-03-29', '00:39:09.029011', \"('192.168.0.163', 34312)\", 83, '2021-03-29 00:39:09.029011.bmp')\n",
      "(37, '2021-03-29', '00:40:35.199149', \"('192.168.0.163', 34316)\", 83, '2021-03-29 00:40:35.199149.bmp')\n",
      "(38, '2021-03-29', '00:43:40.617144', \"('192.168.0.163', 34676)\", 83, '2021-03-29 00:43:40.617144.bmp')\n",
      "(39, '2021-03-29', '00:44:37.506617', \"('192.168.0.163', 34680)\", 83, '2021-03-29 00:44:37.506617.bmp')\n",
      "(40, '2021-03-29', '00:46:54.970242', \"('192.168.0.163', 34684)\", 84, '2021-03-29 00:46:54.970242.bmp')\n",
      "(41, '2021-03-29', '00:55:08.634282', \"('192.168.0.163', 34876)\", 83, '2021-03-29-00:55:08')\n",
      "(42, '2021-03-29', '00:56:10.081040', \"('192.168.0.163', 34880)\", 83, '2021-03-29')\n",
      "(43, '2021-03-29', '00:59:29.477514', \"('192.168.0.163', 34894)\", 84, '2021-03-29-00-59-29.bmp')\n"
     ]
    }
   ],
   "source": [
    "while True:\n",
    "        record=cur.fetchone()\n",
    "        if record==None:\n",
    "            break\n",
    "        print (record)"
   ]
  },
  {
   "cell_type": "code",
   "execution_count": 7,
   "metadata": {},
   "outputs": [],
   "source": [
    "cur.execute(\"SELECT * FROM maskData\")\n",
    "rec = cur.fetchone()"
   ]
  },
  {
   "cell_type": "raw",
   "metadata": {},
   "source": [
    "rec"
   ]
  },
  {
   "cell_type": "code",
   "execution_count": 12,
   "metadata": {},
   "outputs": [
    {
     "data": {
      "text/plain": [
       "(3,\n",
       " '2021-03-28',\n",
       " '23:44:24.730362',\n",
       " \"('192.168.0.163', 60660)\",\n",
       " 77,\n",
       " '2021-03-28 23:44:24.730362.jpg')"
      ]
     },
     "execution_count": 12,
     "metadata": {},
     "output_type": "execute_result"
    }
   ],
   "source": [
    "rec"
   ]
  },
  {
   "cell_type": "code",
   "execution_count": 15,
   "metadata": {},
   "outputs": [
    {
     "data": {
      "text/plain": [
       "(6,\n",
       " '2021-03-28',\n",
       " '23:54:12.438094',\n",
       " \"('192.168.0.163', 32940)\",\n",
       " 80,\n",
       " '2021-03-28 23:54:12.438094.jpg')"
      ]
     },
     "execution_count": 15,
     "metadata": {},
     "output_type": "execute_result"
    }
   ],
   "source": [
    "rec = cur.fetchone()\n",
    "rec"
   ]
  },
  {
   "cell_type": "code",
   "execution_count": 16,
   "metadata": {},
   "outputs": [
    {
     "ename": "AttributeError",
     "evalue": "'tuple' object has no attribute 'dtype'",
     "output_type": "error",
     "traceback": [
      "\u001b[1;31m---------------------------------------------------------------------------\u001b[0m",
      "\u001b[1;31mAttributeError\u001b[0m                            Traceback (most recent call last)",
      "\u001b[1;32m<ipython-input-16-aa8165863aa7>\u001b[0m in \u001b[0;36m<module>\u001b[1;34m\u001b[0m\n\u001b[1;32m----> 1\u001b[1;33m \u001b[0mrec\u001b[0m\u001b[1;33m.\u001b[0m\u001b[0mdtype\u001b[0m\u001b[1;33m(\u001b[0m\u001b[1;33m)\u001b[0m\u001b[1;33m\u001b[0m\u001b[1;33m\u001b[0m\u001b[0m\n\u001b[0m",
      "\u001b[1;31mAttributeError\u001b[0m: 'tuple' object has no attribute 'dtype'"
     ]
    }
   ],
   "source": [
    "rec.dtype()"
   ]
  },
  {
   "cell_type": "code",
   "execution_count": null,
   "metadata": {},
   "outputs": [],
   "source": []
  }
 ],
 "metadata": {
  "kernelspec": {
   "display_name": "Python 3",
   "language": "python",
   "name": "python3"
  },
  "language_info": {
   "codemirror_mode": {
    "name": "ipython",
    "version": 3
   },
   "file_extension": ".py",
   "mimetype": "text/x-python",
   "name": "python",
   "nbconvert_exporter": "python",
   "pygments_lexer": "ipython3",
   "version": "3.8.5"
  }
 },
 "nbformat": 4,
 "nbformat_minor": 4
}
