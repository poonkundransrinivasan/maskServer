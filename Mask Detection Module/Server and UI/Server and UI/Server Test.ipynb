{
 "cells": [
  {
   "cell_type": "code",
   "execution_count": 1,
   "metadata": {},
   "outputs": [],
   "source": [
    "import socket\n",
    "import cv2\n",
    "import pickle\n",
    "import struct\n",
    "from socket import SOCK_STREAM"
   ]
  },
  {
   "cell_type": "code",
   "execution_count": null,
   "metadata": {},
   "outputs": [
    {
     "name": "stdout",
     "output_type": "stream",
     "text": [
      "Host:  Vasu-PC\n",
      "IP:  192.168.0.125\n",
      "LISTENING AT:  ('192.168.0.125', 9999)\n"
     ]
    }
   ],
   "source": [
    "PORT = 9999\n",
    "\n",
    "s = socket.socket(socket.AF_INET, SOCK_STREAM)\n",
    "hName = socket.gethostname()\n",
    "hIp = socket.gethostbyname(hName)\n",
    "\n",
    "print(\"Host: \", hName)\n",
    "print(\"IP: \", hIp)\n",
    "\n",
    "sockAddr = (hIp,PORT)\n",
    "\n",
    "s.bind(sockAddr)\n",
    "\n",
    "s.listen(5)\n",
    "print(\"LISTENING AT: \", sockAddr)\n",
    "\n",
    "\n",
    "while True:\n",
    "    c,addr = s.accept()\n",
    "    print(\"CONNECTED To: \", addr)\n",
    "    if c:\n",
    "        vid = cv2.VideoCapture(0)\n",
    "        while(vid.isOpened()):\n",
    "            img,frame = vid.read()\n",
    "            a = pickle.dumps(frame)\n",
    "            message = struct.pack(\"Q\",len(a)) + a\n",
    "            c.sendall(message)\n",
    "            cv2.imshow(\"TRANSMITTING VIDEO\", frame)\n",
    "            key = cv2.waitKey(1) & 0xFF\n",
    "            if(key==ord('q')):\n",
    "                c.clode()\n",
    "             "
   ]
  },
  {
   "cell_type": "code",
   "execution_count": 2,
   "metadata": {},
   "outputs": [
    {
     "name": "stderr",
     "output_type": "stream",
     "text": [
      "\u001b[01;36m15:14:00 :: \u001b[01;34mNetGear\u001b[0m :: \u001b[01;31mERROR\u001b[0m :: Address not available\n",
      "Traceback (most recent call last):\n",
      "  File \"F:\\ANACONDA\\Anaconda3\\lib\\site-packages\\vidgear\\gears\\netgear.py\", line 591, in __init__\n",
      "    self.__msg_socket.bind(\n",
      "  File \"zmq/backend/cython/socket.pyx\", line 550, in zmq.backend.cython.socket.Socket.bind\n",
      "  File \"zmq/backend/cython/checkrc.pxd\", line 26, in zmq.backend.cython.checkrc._check_rc\n",
      "zmq.error.ZMQError: Address not available\u001b[0m\n"
     ]
    },
    {
     "ename": "RuntimeError",
     "evalue": "[NetGear:ERROR] :: Receive Mode failed to bind address: tcp://192.168.0.163:5454 and pattern: 2! Kindly recheck all parameters.",
     "output_type": "error",
     "traceback": [
      "\u001b[1;31m---------------------------------------------------------------------------\u001b[0m",
      "\u001b[1;31mZMQError\u001b[0m                                  Traceback (most recent call last)",
      "\u001b[1;32mF:\\ANACONDA\\Anaconda3\\lib\\site-packages\\vidgear\\gears\\netgear.py\u001b[0m in \u001b[0;36m__init__\u001b[1;34m(self, address, port, protocol, pattern, receive_mode, logging, **options)\u001b[0m\n\u001b[0;32m    590\u001b[0m                     \u001b[1;31m# bind socket to given protocol, address and port normally\u001b[0m\u001b[1;33m\u001b[0m\u001b[1;33m\u001b[0m\u001b[1;33m\u001b[0m\u001b[0m\n\u001b[1;32m--> 591\u001b[1;33m                     self.__msg_socket.bind(\n\u001b[0m\u001b[0;32m    592\u001b[0m                         \u001b[0mprotocol\u001b[0m \u001b[1;33m+\u001b[0m \u001b[1;34m\"://\"\u001b[0m \u001b[1;33m+\u001b[0m \u001b[0mstr\u001b[0m\u001b[1;33m(\u001b[0m\u001b[0maddress\u001b[0m\u001b[1;33m)\u001b[0m \u001b[1;33m+\u001b[0m \u001b[1;34m\":\"\u001b[0m \u001b[1;33m+\u001b[0m \u001b[0mstr\u001b[0m\u001b[1;33m(\u001b[0m\u001b[0mport\u001b[0m\u001b[1;33m)\u001b[0m\u001b[1;33m\u001b[0m\u001b[1;33m\u001b[0m\u001b[0m\n",
      "\u001b[1;32mzmq/backend/cython/socket.pyx\u001b[0m in \u001b[0;36mzmq.backend.cython.socket.Socket.bind\u001b[1;34m()\u001b[0m\n",
      "\u001b[1;32mF:\\ANACONDA\\Anaconda3\\lib\\site-packages\\zmq\\backend\\cython\\checkrc.pxd\u001b[0m in \u001b[0;36mzmq.backend.cython.checkrc._check_rc\u001b[1;34m()\u001b[0m\n",
      "\u001b[1;31mZMQError\u001b[0m: Address not available",
      "\nDuring handling of the above exception, another exception occurred:\n",
      "\u001b[1;31mRuntimeError\u001b[0m                              Traceback (most recent call last)",
      "\u001b[1;32m<ipython-input-2-b072b81f5c67>\u001b[0m in \u001b[0;36m<module>\u001b[1;34m\u001b[0m\n\u001b[0;32m      5\u001b[0m \u001b[0moptions\u001b[0m \u001b[1;33m=\u001b[0m \u001b[1;33m{\u001b[0m\u001b[1;34m\"flag\"\u001b[0m\u001b[1;33m:\u001b[0m \u001b[1;36m0\u001b[0m\u001b[1;33m,\u001b[0m \u001b[1;34m\"copy\"\u001b[0m\u001b[1;33m:\u001b[0m \u001b[1;32mFalse\u001b[0m\u001b[1;33m,\u001b[0m \u001b[1;34m\"track\"\u001b[0m\u001b[1;33m:\u001b[0m \u001b[1;32mFalse\u001b[0m\u001b[1;33m}\u001b[0m\u001b[1;33m\u001b[0m\u001b[1;33m\u001b[0m\u001b[0m\n\u001b[0;32m      6\u001b[0m \u001b[1;33m\u001b[0m\u001b[0m\n\u001b[1;32m----> 7\u001b[1;33m client = NetGear(\n\u001b[0m\u001b[0;32m      8\u001b[0m     \u001b[0maddress\u001b[0m\u001b[1;33m=\u001b[0m\u001b[1;34m\"192.168.0.163\"\u001b[0m\u001b[1;33m,\u001b[0m\u001b[1;33m\u001b[0m\u001b[1;33m\u001b[0m\u001b[0m\n\u001b[0;32m      9\u001b[0m     \u001b[0mport\u001b[0m\u001b[1;33m=\u001b[0m\u001b[1;34m\"5454\"\u001b[0m\u001b[1;33m,\u001b[0m\u001b[1;33m\u001b[0m\u001b[1;33m\u001b[0m\u001b[0m\n",
      "\u001b[1;32mF:\\ANACONDA\\Anaconda3\\lib\\site-packages\\vidgear\\gears\\netgear.py\u001b[0m in \u001b[0;36m__init__\u001b[1;34m(self, address, port, protocol, pattern, receive_mode, logging, **options)\u001b[0m\n\u001b[0;32m    639\u001b[0m                             \u001b[1;34m\"Failed to activate Bi-Directional Mode for this connection!\"\u001b[0m\u001b[1;33m\u001b[0m\u001b[1;33m\u001b[0m\u001b[0m\n\u001b[0;32m    640\u001b[0m                         )\n\u001b[1;32m--> 641\u001b[1;33m                     raise RuntimeError(\n\u001b[0m\u001b[0;32m    642\u001b[0m                         \"[NetGear:ERROR] :: Receive Mode failed to bind address: {} and pattern: {}! Kindly recheck all parameters.\".format(\n\u001b[0;32m    643\u001b[0m                             \u001b[1;33m(\u001b[0m\u001b[0mprotocol\u001b[0m \u001b[1;33m+\u001b[0m \u001b[1;34m\"://\"\u001b[0m \u001b[1;33m+\u001b[0m \u001b[0mstr\u001b[0m\u001b[1;33m(\u001b[0m\u001b[0maddress\u001b[0m\u001b[1;33m)\u001b[0m \u001b[1;33m+\u001b[0m \u001b[1;34m\":\"\u001b[0m \u001b[1;33m+\u001b[0m \u001b[0mstr\u001b[0m\u001b[1;33m(\u001b[0m\u001b[0mport\u001b[0m\u001b[1;33m)\u001b[0m\u001b[1;33m)\u001b[0m\u001b[1;33m,\u001b[0m \u001b[0mpattern\u001b[0m\u001b[1;33m\u001b[0m\u001b[1;33m\u001b[0m\u001b[0m\n",
      "\u001b[1;31mRuntimeError\u001b[0m: [NetGear:ERROR] :: Receive Mode failed to bind address: tcp://192.168.0.163:5454 and pattern: 2! Kindly recheck all parameters."
     ]
    }
   ],
   "source": [
    "from vidgear.gears import NetGear\n",
    "import cv2\n",
    "\n",
    "#define netgear client with `receive_mode = True` and default settings\n",
    "options = {\"flag\": 0, \"copy\": False, \"track\": False}\n",
    "\n",
    "client = NetGear(\n",
    "    address=\"192.168.0.163\",\n",
    "    port=\"5454\",\n",
    "    protocol=\"tcp\",\n",
    "    pattern=2,\n",
    "    receive_mode=True,\n",
    "    logging=True,\n",
    "    **options\n",
    ")\n",
    "\n",
    "# infinite loop\n",
    "while True:\n",
    "    # receive frames from network\n",
    "    frame = client.recv()\n",
    "\n",
    "    # check if frame is None\n",
    "    if frame is None:\n",
    "        #if True break the infinite loop\n",
    "        break\n",
    "\n",
    "    # do something with frame here\n",
    "\n",
    "    # Show output windowq\n",
    "    cv2.imshow(\"Output Frame\", frame)\n",
    "\n",
    "    key = cv2.waitKey(1) & 0xFF\n",
    "    # check for 'q' key-press\n",
    "    if key == ord(\"q\"):\n",
    "        #if 'q' key-pressed break out\n",
    "        break\n",
    "\n",
    "# close output window\n",
    "cv2.destroyAllWindows()\n",
    "# safely close client\n",
    "client.close()"
   ]
  },
  {
   "cell_type": "code",
   "execution_count": null,
   "metadata": {},
   "outputs": [],
   "source": []
  }
 ],
 "metadata": {
  "kernelspec": {
   "display_name": "Python 3",
   "language": "python",
   "name": "python3"
  },
  "language_info": {
   "codemirror_mode": {
    "name": "ipython",
    "version": 3
   },
   "file_extension": ".py",
   "mimetype": "text/x-python",
   "name": "python",
   "nbconvert_exporter": "python",
   "pygments_lexer": "ipython3",
   "version": "3.8.5"
  }
 },
 "nbformat": 4,
 "nbformat_minor": 4
}
