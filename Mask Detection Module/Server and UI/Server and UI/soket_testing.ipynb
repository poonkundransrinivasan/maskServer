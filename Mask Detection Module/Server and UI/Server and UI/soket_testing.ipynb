{
 "cells": [
  {
   "cell_type": "code",
   "execution_count": 3,
   "metadata": {},
   "outputs": [],
   "source": [
    "import socket,cv2,pickle,struct"
   ]
  },
  {
   "cell_type": "code",
   "execution_count": 11,
   "metadata": {},
   "outputs": [
    {
     "name": "stdout",
     "output_type": "stream",
     "text": [
      "192.168.0.126\n",
      "Listining:  ('192.168.0.126', 1234)\n",
      "Connection From:  ('192.168.0.164', 58962)\n"
     ]
    },
    {
     "ename": "KeyboardInterrupt",
     "evalue": "",
     "output_type": "error",
     "traceback": [
      "\u001b[1;31m---------------------------------------------------------------------------\u001b[0m",
      "\u001b[1;31mKeyboardInterrupt\u001b[0m                         Traceback (most recent call last)",
      "\u001b[1;32m<ipython-input-11-c956ee2a4c16>\u001b[0m in \u001b[0;36m<module>\u001b[1;34m\u001b[0m\n\u001b[0;32m     41\u001b[0m \u001b[0mframe\u001b[0m \u001b[1;33m=\u001b[0m \u001b[0mpickle\u001b[0m\u001b[1;33m.\u001b[0m\u001b[0mloads\u001b[0m\u001b[1;33m(\u001b[0m\u001b[0mframe_data\u001b[0m\u001b[1;33m)\u001b[0m\u001b[1;33m\u001b[0m\u001b[1;33m\u001b[0m\u001b[0m\n\u001b[0;32m     42\u001b[0m \u001b[0mcv2\u001b[0m\u001b[1;33m.\u001b[0m\u001b[0mimshow\u001b[0m\u001b[1;33m(\u001b[0m\u001b[1;34m\"r\"\u001b[0m\u001b[1;33m,\u001b[0m\u001b[0mframe\u001b[0m\u001b[1;33m)\u001b[0m\u001b[1;33m\u001b[0m\u001b[1;33m\u001b[0m\u001b[0m\n\u001b[1;32m---> 43\u001b[1;33m \u001b[0mkey\u001b[0m \u001b[1;33m=\u001b[0m \u001b[0mcv2\u001b[0m\u001b[1;33m.\u001b[0m\u001b[0mwaitKey\u001b[0m\u001b[1;33m(\u001b[0m\u001b[1;36m0\u001b[0m\u001b[1;33m)\u001b[0m\u001b[1;33m\u001b[0m\u001b[1;33m\u001b[0m\u001b[0m\n\u001b[0m\u001b[0;32m     44\u001b[0m \u001b[1;33m\u001b[0m\u001b[0m\n",
      "\u001b[1;31mKeyboardInterrupt\u001b[0m: "
     ]
    }
   ],
   "source": [
    "serverSocket = socket.socket(socket.AF_INET,socket.SOCK_STREAM)\n",
    "hostName = socket.gethostname()\n",
    "hostIp = socket.gethostbyname(hostName)\n",
    "print(hostIp)\n",
    "\n",
    "PORT = 1234\n",
    "sockAddress = (hostIp,PORT)\n",
    "\n",
    "\n",
    "#Bind\n",
    "serverSocket.bind(sockAddress)\n",
    "\n",
    "#listen\n",
    "serverSocket.listen(5)\n",
    "print(\"Listining: \",sockAddress)\n",
    "\n",
    "data = b'' ### CHANGED\n",
    "payload_size = struct.calcsize(\"Q\") ### CHANGED\n",
    "\n",
    "clientSocket, addr = serverSocket.accept()\n",
    "print(\"Connection From: \",addr)\n",
    "\n",
    "while len(data)<payload_size:\n",
    "    packet = clientSocket.recv(4*1024)\n",
    "    if not packet: \n",
    "        break\n",
    "    data += packet\n",
    "    \n",
    "    \n",
    "    \n",
    "packed_msg_size = data[:payload_size]\n",
    "data = data[payload_size:]\n",
    "msg_size = struct.unpack(\"Q\", packed_msg_size)[0]\n",
    "\n",
    "while len(data) < msg_size:\n",
    "    data += clientSocket.recv(4096)\n",
    "    \n",
    "print(\"here\")    \n",
    "frame_data = data[:msg_size]\n",
    "data = data[msg_size:]\n",
    "frame = pickle.loads(frame_data)\n",
    "cv2.imshow(\"r\",frame)\n",
    "key = cv2.waitKey(0)\n",
    "        "
   ]
  },
  {
   "cell_type": "code",
   "execution_count": 6,
   "metadata": {},
   "outputs": [
    {
     "name": "stdout",
     "output_type": "stream",
     "text": [
      "192.168.0.126\n"
     ]
    }
   ],
   "source": [
    "hostName = socket.gethostname()\n",
    "hostIp = socket.gethostbyname(hostName)\n",
    "print(hostIp)"
   ]
  },
  {
   "cell_type": "code",
   "execution_count": null,
   "metadata": {},
   "outputs": [],
   "source": []
  }
 ],
 "metadata": {
  "kernelspec": {
   "display_name": "Python 3",
   "language": "python",
   "name": "python3"
  },
  "language_info": {
   "codemirror_mode": {
    "name": "ipython",
    "version": 3
   },
   "file_extension": ".py",
   "mimetype": "text/x-python",
   "name": "python",
   "nbconvert_exporter": "python",
   "pygments_lexer": "ipython3",
   "version": "3.8.5"
  }
 },
 "nbformat": 4,
 "nbformat_minor": 4
}
