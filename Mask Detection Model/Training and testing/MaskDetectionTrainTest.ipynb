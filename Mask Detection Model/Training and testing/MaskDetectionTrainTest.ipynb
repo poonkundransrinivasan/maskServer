{
 "cells": [
  {
   "cell_type": "code",
   "execution_count": 49,
   "metadata": {},
   "outputs": [],
   "source": [
    "import tensorflow as tf\n",
    "from tensorflow.keras import datasets, layers, models\n",
    "import matplotlib.pyplot as plt\n",
    "import numpy as np\n",
    "import os \n",
    "\n",
    "from tensorflow.keras.applications.mobilenet_v2 import preprocess_input\n",
    "from tensorflow.keras.preprocessing.image import img_to_array\n",
    "from tensorflow.keras.preprocessing.image import load_img\n",
    "from sklearn.preprocessing import LabelBinarizer\n",
    "from sklearn.model_selection import train_test_split\n",
    "from sklearn.metrics import classification_report\n",
    "from tensorflow.keras.utils import to_categorical\n",
    "from tensorflow.keras.applications import MobileNetV2\n",
    "from tensorflow.keras.layers import Input\n",
    "from tensorflow.keras.models import Model\n",
    "from tensorflow.keras.optimizers import Adam\n",
    "from tensorflow.keras.layers import MaxPooling2D\n",
    "from tensorflow.keras.layers import Flatten\n",
    "from tensorflow.keras.layers import Dense\n",
    "from tensorflow.keras.layers import Dropout\n",
    "from tensorflow.keras.preprocessing.image import ImageDataGenerator"
   ]
  },
  {
   "cell_type": "code",
   "execution_count": 1,
   "metadata": {},
   "outputs": [],
   "source": [
    "DIRECTORY = r\"C:\\Users\\vasu2\\Desktop\\Mask Detection Test\\maskdata\\maskdata\\train\"\n",
    "CATEGORIES = [\"with_mask\", \"without_mask\"]\n",
    "\n",
    "data = []\n",
    "labels = []"
   ]
  },
  {
   "cell_type": "code",
   "execution_count": 15,
   "metadata": {},
   "outputs": [],
   "source": [
    "for category in CATEGORIES:\n",
    "    path = os.path.join(DIRECTORY, category)\n",
    "    for img in os.listdir(path):\n",
    "        img_path = os.path.join(path, img)\n",
    "        image = load_img(img_path, target_size=(224, 224))\n",
    "        image = img_to_array(image)\n",
    "        image = preprocess_input(image)\n",
    "\n",
    "        data.append(image)\n",
    "        labels.append(category)"
   ]
  },
  {
   "cell_type": "code",
   "execution_count": 16,
   "metadata": {},
   "outputs": [],
   "source": [
    "def show(index):\n",
    "    plt.imshow(data[index])\n",
    "    plt.xlabel(labels[index])"
   ]
  },
  {
   "cell_type": "code",
   "execution_count": 17,
   "metadata": {},
   "outputs": [],
   "source": [
    "lb = LabelBinarizer()\n",
    "labels = lb.fit_transform(labels)\n",
    "labels = to_categorical(labels)"
   ]
  },
  {
   "cell_type": "code",
   "execution_count": 18,
   "metadata": {},
   "outputs": [],
   "source": [
    "data = np.array(data, dtype=\"float32\")\n",
    "labels = np.array(labels)"
   ]
  },
  {
   "cell_type": "code",
   "execution_count": 19,
   "metadata": {},
   "outputs": [],
   "source": [
    "(trainX, testX, trainY, testY) = train_test_split(data, labels,test_size=0.20, stratify=labels, random_state=42)"
   ]
  },
  {
   "cell_type": "code",
   "execution_count": 20,
   "metadata": {},
   "outputs": [
    {
     "data": {
      "text/plain": [
       "array([[[-0.2235294 , -0.49019605, -0.8509804 ],\n",
       "        [-0.2235294 , -0.49019605, -0.8509804 ],\n",
       "        [-0.21568626, -0.4823529 , -0.84313726],\n",
       "        ...,\n",
       "        [ 0.3803922 ,  0.6627451 ,  0.8666667 ],\n",
       "        [ 0.78039217,  0.9372549 ,  1.        ],\n",
       "        [ 0.8901961 ,  1.        ,  1.        ]],\n",
       "\n",
       "       [[-0.2235294 , -0.49019605, -0.8509804 ],\n",
       "        [-0.2235294 , -0.49019605, -0.8509804 ],\n",
       "        [-0.21568626, -0.4823529 , -0.84313726],\n",
       "        ...,\n",
       "        [ 0.3803922 ,  0.6627451 ,  0.8666667 ],\n",
       "        [ 0.78039217,  0.9372549 ,  1.        ],\n",
       "        [ 0.8901961 ,  1.        ,  1.        ]],\n",
       "\n",
       "       [[-0.23137254, -0.4980392 , -0.85882354],\n",
       "        [-0.23137254, -0.4980392 , -0.85882354],\n",
       "        [-0.2235294 , -0.49019605, -0.8509804 ],\n",
       "        ...,\n",
       "        [ 0.3803922 ,  0.6627451 ,  0.8666667 ],\n",
       "        [ 0.7882353 ,  0.94509804,  1.        ],\n",
       "        [ 0.8980392 ,  1.        ,  1.        ]],\n",
       "\n",
       "       ...,\n",
       "\n",
       "       [[-0.67058825, -0.7254902 , -0.8039216 ],\n",
       "        [-0.67058825, -0.7254902 , -0.8039216 ],\n",
       "        [-0.6392157 , -0.7176471 , -0.8117647 ],\n",
       "        ...,\n",
       "        [-0.8509804 , -0.6784314 , -0.372549  ],\n",
       "        [-0.827451  , -0.6392157 , -0.34117645],\n",
       "        [-0.81960785, -0.6313726 , -0.3333333 ]],\n",
       "\n",
       "       [[-0.67058825, -0.7254902 , -0.8039216 ],\n",
       "        [-0.67058825, -0.7254902 , -0.8039216 ],\n",
       "        [-0.6392157 , -0.7176471 , -0.8117647 ],\n",
       "        ...,\n",
       "        [-0.88235295, -0.70980394, -0.40392154],\n",
       "        [-0.85882354, -0.67058825, -0.372549  ],\n",
       "        [-0.8509804 , -0.6627451 , -0.36470586]],\n",
       "\n",
       "       [[-0.67058825, -0.7254902 , -0.8039216 ],\n",
       "        [-0.67058825, -0.7254902 , -0.8039216 ],\n",
       "        [-0.6392157 , -0.7176471 , -0.8117647 ],\n",
       "        ...,\n",
       "        [-0.90588236, -0.73333335, -0.42745095],\n",
       "        [-0.88235295, -0.69411767, -0.3960784 ],\n",
       "        [-0.8745098 , -0.6862745 , -0.38823527]]], dtype=float32)"
      ]
     },
     "execution_count": 20,
     "metadata": {},
     "output_type": "execute_result"
    }
   ],
   "source": [
    "trainX[0]"
   ]
  },
  {
   "cell_type": "code",
   "execution_count": 25,
   "metadata": {},
   "outputs": [
    {
     "name": "stdout",
     "output_type": "stream",
     "text": [
      "WARNING:tensorflow:`input_shape` is undefined or non-square, or `rows` is not in [96, 128, 160, 192, 224]. Weights for input shape (224, 224) will be loaded as the default.\n",
      "Downloading data from https://storage.googleapis.com/tensorflow/keras-applications/mobilenet_v2/mobilenet_v2_weights_tf_dim_ordering_tf_kernels_1.0_224_no_top.h5\n",
      "9412608/9406464 [==============================] - 1s 0us/step\n"
     ]
    }
   ],
   "source": [
    "baseModel = MobileNetV2(weights=\"imagenet\", include_top=False,\n",
    "    input_tensor=Input(shape=(224, 224, 3))"
   ]
  },
  {
   "cell_type": "code",
   "execution_count": 35,
   "metadata": {},
   "outputs": [],
   "source": [
    "cnn = baseModel.output\n",
    "cnn = MaxPooling2D(pool_size=(7, 7))(cnn)\n",
    "cnn = Flatten(name=\"flatten\")(cnn)\n",
    "cnn = Dense(128, activation=\"relu\")(cnn)\n",
    "cnn = Dropout(0.5)(cnn)\n",
    "cnn = Dense(2, activation=\"softmax\")(cnn)"
   ]
  },
  {
   "cell_type": "code",
   "execution_count": 38,
   "metadata": {},
   "outputs": [],
   "source": [
    "model = Model(inputs=baseModel.input, outputs=cnn)"
   ]
  },
  {
   "cell_type": "code",
   "execution_count": 42,
   "metadata": {},
   "outputs": [],
   "source": [
    "for layer in baseModel.layers:\n",
    "    layer.trainable = False"
   ]
  },
  {
   "cell_type": "code",
   "execution_count": 50,
   "metadata": {},
   "outputs": [],
   "source": [
    "aug = ImageDataGenerator(\n",
    "    rotation_range=20,\n",
    "    zoom_range=0.15,\n",
    "    width_shift_range=0.2,\n",
    "    height_shift_range=0.2,\n",
    "    shear_range=0.15,\n",
    "    horizontal_flip=True,\n",
    "    fill_mode=\"nearest\")"
   ]
  },
  {
   "cell_type": "code",
   "execution_count": 52,
   "metadata": {},
   "outputs": [],
   "source": [
    "LR = 1e-4\n",
    "E = 35\n",
    "BS = 32"
   ]
  },
  {
   "cell_type": "code",
   "execution_count": 53,
   "metadata": {},
   "outputs": [],
   "source": [
    "opt = Adam(lr=LR, decay=LR / E) \n",
    "model.compile(loss=\"binary_crossentropy\", optimizer=opt,\n",
    "    metrics=[\"accuracy\"])"
   ]
  },
  {
   "cell_type": "code",
   "execution_count": 54,
   "metadata": {},
   "outputs": [
    {
     "name": "stdout",
     "output_type": "stream",
     "text": [
      "Epoch 1/35\n",
      "15/15 [==============================] - 14s 775ms/step - loss: 0.1211 - accuracy: 0.9735 - val_loss: 0.0132 - val_accuracy: 1.0000\n",
      "Epoch 2/35\n",
      "15/15 [==============================] - 11s 748ms/step - loss: 0.0635 - accuracy: 0.9848 - val_loss: 0.0120 - val_accuracy: 1.0000\n",
      "Epoch 3/35\n",
      "15/15 [==============================] - 11s 747ms/step - loss: 0.0817 - accuracy: 0.9706 - val_loss: 0.0114 - val_accuracy: 1.0000\n",
      "Epoch 4/35\n",
      "15/15 [==============================] - 11s 753ms/step - loss: 0.0609 - accuracy: 0.9812 - val_loss: 0.0110 - val_accuracy: 1.0000\n",
      "Epoch 5/35\n",
      "15/15 [==============================] - 12s 797ms/step - loss: 0.0515 - accuracy: 0.9885 - val_loss: 0.0131 - val_accuracy: 0.9919\n",
      "Epoch 6/35\n",
      "15/15 [==============================] - 12s 783ms/step - loss: 0.0424 - accuracy: 0.9876 - val_loss: 0.0109 - val_accuracy: 1.0000\n",
      "Epoch 7/35\n",
      "15/15 [==============================] - 12s 815ms/step - loss: 0.0189 - accuracy: 0.9974 - val_loss: 0.0109 - val_accuracy: 1.0000\n",
      "Epoch 8/35\n",
      "15/15 [==============================] - 12s 786ms/step - loss: 0.0353 - accuracy: 0.9884 - val_loss: 0.0108 - val_accuracy: 1.0000\n",
      "Epoch 9/35\n",
      "15/15 [==============================] - 12s 782ms/step - loss: 0.0338 - accuracy: 0.9960 - val_loss: 0.0105 - val_accuracy: 1.0000\n",
      "Epoch 10/35\n",
      "15/15 [==============================] - 11s 741ms/step - loss: 0.0390 - accuracy: 0.9849 - val_loss: 0.0096 - val_accuracy: 1.0000\n",
      "Epoch 11/35\n",
      "15/15 [==============================] - 11s 762ms/step - loss: 0.0284 - accuracy: 0.9926 - val_loss: 0.0068 - val_accuracy: 1.0000\n",
      "Epoch 12/35\n",
      "15/15 [==============================] - 12s 771ms/step - loss: 0.0207 - accuracy: 0.9978 - val_loss: 0.0075 - val_accuracy: 1.0000\n",
      "Epoch 13/35\n",
      "15/15 [==============================] - 11s 770ms/step - loss: 0.0323 - accuracy: 0.9860 - val_loss: 0.0086 - val_accuracy: 1.0000\n",
      "Epoch 14/35\n",
      "15/15 [==============================] - 11s 787ms/step - loss: 0.0270 - accuracy: 0.9939 - val_loss: 0.0089 - val_accuracy: 1.0000\n",
      "Epoch 15/35\n",
      "15/15 [==============================] - 11s 756ms/step - loss: 0.0176 - accuracy: 0.9933 - val_loss: 0.0096 - val_accuracy: 1.0000\n",
      "Epoch 16/35\n",
      "15/15 [==============================] - 11s 745ms/step - loss: 0.0300 - accuracy: 0.9926 - val_loss: 0.0088 - val_accuracy: 1.0000\n",
      "Epoch 17/35\n",
      "15/15 [==============================] - 11s 782ms/step - loss: 0.0207 - accuracy: 0.9962 - val_loss: 0.0076 - val_accuracy: 1.0000\n",
      "Epoch 18/35\n",
      "15/15 [==============================] - 11s 752ms/step - loss: 0.0149 - accuracy: 0.9973 - val_loss: 0.0078 - val_accuracy: 1.0000\n",
      "Epoch 19/35\n",
      "15/15 [==============================] - 11s 761ms/step - loss: 0.0143 - accuracy: 0.9972 - val_loss: 0.0090 - val_accuracy: 0.9919\n",
      "Epoch 20/35\n",
      "15/15 [==============================] - 11s 728ms/step - loss: 0.0106 - accuracy: 0.9991 - val_loss: 0.0138 - val_accuracy: 0.9919\n",
      "Epoch 21/35\n",
      "15/15 [==============================] - 11s 741ms/step - loss: 0.0204 - accuracy: 0.9946 - val_loss: 0.0169 - val_accuracy: 0.9919\n",
      "Epoch 22/35\n",
      "15/15 [==============================] - 11s 742ms/step - loss: 0.0495 - accuracy: 0.9913 - val_loss: 0.0094 - val_accuracy: 1.0000\n",
      "Epoch 23/35\n",
      "15/15 [==============================] - 11s 730ms/step - loss: 0.0155 - accuracy: 0.9968 - val_loss: 0.0108 - val_accuracy: 1.0000\n",
      "Epoch 24/35\n",
      "15/15 [==============================] - 11s 745ms/step - loss: 0.0124 - accuracy: 0.9997 - val_loss: 0.0093 - val_accuracy: 1.0000\n",
      "Epoch 25/35\n",
      "15/15 [==============================] - 11s 734ms/step - loss: 0.0268 - accuracy: 0.9924 - val_loss: 0.0142 - val_accuracy: 0.9919\n",
      "Epoch 26/35\n",
      "15/15 [==============================] - 11s 747ms/step - loss: 0.0075 - accuracy: 0.9988 - val_loss: 0.0143 - val_accuracy: 0.9919\n",
      "Epoch 27/35\n",
      "15/15 [==============================] - 11s 750ms/step - loss: 0.0129 - accuracy: 0.9967 - val_loss: 0.0095 - val_accuracy: 1.0000\n",
      "Epoch 28/35\n",
      "15/15 [==============================] - 11s 735ms/step - loss: 0.0164 - accuracy: 0.9924 - val_loss: 0.0104 - val_accuracy: 0.9919\n",
      "Epoch 29/35\n",
      "15/15 [==============================] - 11s 734ms/step - loss: 0.0089 - accuracy: 0.9981 - val_loss: 0.0094 - val_accuracy: 1.0000\n",
      "Epoch 30/35\n",
      "15/15 [==============================] - 11s 751ms/step - loss: 0.0270 - accuracy: 0.9869 - val_loss: 0.0101 - val_accuracy: 1.0000\n",
      "Epoch 31/35\n",
      "15/15 [==============================] - 11s 753ms/step - loss: 0.0173 - accuracy: 0.9948 - val_loss: 0.0078 - val_accuracy: 1.0000\n",
      "Epoch 32/35\n",
      "15/15 [==============================] - 11s 745ms/step - loss: 0.0125 - accuracy: 1.0000 - val_loss: 0.0099 - val_accuracy: 1.0000\n",
      "Epoch 33/35\n",
      "15/15 [==============================] - 11s 762ms/step - loss: 0.0119 - accuracy: 0.9953 - val_loss: 0.0184 - val_accuracy: 0.9919\n",
      "Epoch 34/35\n",
      "15/15 [==============================] - 12s 778ms/step - loss: 0.0146 - accuracy: 0.9965 - val_loss: 0.0087 - val_accuracy: 1.0000\n",
      "Epoch 35/35\n",
      "15/15 [==============================] - 11s 749ms/step - loss: 0.0079 - accuracy: 1.0000 - val_loss: 0.0085 - val_accuracy: 1.0000\n"
     ]
    }
   ],
   "source": [
    "H = model.fit(\n",
    "    aug.flow(trainX, trainY, batch_size=BS),\n",
    "    steps_per_epoch=len(trainX) // BS,\n",
    "    validation_data=(testX, testY),\n",
    "    validation_steps=len(testX) // BS,\n",
    "    epochs=E)"
   ]
  },
  {
   "cell_type": "code",
   "execution_count": 55,
   "metadata": {},
   "outputs": [],
   "source": [
    "predIdxs = model.predict(testX, batch_size=BS)"
   ]
  },
  {
   "cell_type": "code",
   "execution_count": 56,
   "metadata": {},
   "outputs": [],
   "source": [
    "predIdxs = np.argmax(predIdxs, axis=1)"
   ]
  },
  {
   "cell_type": "code",
   "execution_count": 57,
   "metadata": {},
   "outputs": [
    {
     "name": "stdout",
     "output_type": "stream",
     "text": [
      "              precision    recall  f1-score   support\n",
      "\n",
      "   with_mask       1.00      1.00      1.00        69\n",
      "without_mask       1.00      1.00      1.00        55\n",
      "\n",
      "    accuracy                           1.00       124\n",
      "   macro avg       1.00      1.00      1.00       124\n",
      "weighted avg       1.00      1.00      1.00       124\n",
      "\n"
     ]
    }
   ],
   "source": [
    "print(classification_report(testY.argmax(axis=1), predIdxs,\n",
    "    target_names=lb.classes_))"
   ]
  },
  {
   "cell_type": "code",
   "execution_count": 68,
   "metadata": {},
   "outputs": [
    {
     "data": {
      "text/plain": [
       "Text(0.5, 0, 'Epoch ----->')"
      ]
     },
     "execution_count": 68,
     "metadata": {},
     "output_type": "execute_result"
    },
    {
     "data": {
      "image/png": "[encoded data removed]",
      "text/plain": [
       "<Figure size 432x288 with 1 Axes>"
      ]
     },
     "metadata": {},
     "output_type": "display_data"
    }
   ],
   "source": [
    "N = E\n",
    "plt.style.use(\"ggplot\")\n",
    "plt.figure()\n",
    "plt.plot(np.arange(0, N), H.history[\"loss\"], label=\"train_loss\")\n",
    "plt.plot(np.arange(0, N), H.history[\"val_loss\"], label=\"val_loss\")\n",
    "plt.plot(np.arange(0, N), H.history[\"accuracy\"], label=\"train_acc\")\n",
    "plt.plot(np.arange(0, N), H.history[\"val_accuracy\"], label=\"val_acc\")\n",
    "plt.legend(loc=\"center\")\n",
    "plt.ylabel(\"Loss / Accuracy ----->\")\n",
    "plt.xlabel(\"Epoch ----->\")"
   ]
  },
  {
   "cell_type": "code",
   "execution_count": 69,
   "metadata": {},
   "outputs": [],
   "source": [
    "model.save(\"MaskDetectionModel\", save_format=\"h5\")"
   ]
  },
  {
   "cell_type": "code",
   "execution_count": null,
   "metadata": {},
   "outputs": [],
   "source": []
  }
 ],
 "metadata": {
  "kernelspec": {
   "display_name": "Python 3",
   "language": "python",
   "name": "python3"
  },
  "language_info": {
   "codemirror_mode": {
    "name": "ipython",
    "version": 3
   },
   "file_extension": ".py",
   "mimetype": "text/x-python",
   "name": "python",
   "nbconvert_exporter": "python",
   "pygments_lexer": "ipython3",
   "version": "3.8.5"
  }
 },
 "nbformat": 4,
 "nbformat_minor": 4
}
