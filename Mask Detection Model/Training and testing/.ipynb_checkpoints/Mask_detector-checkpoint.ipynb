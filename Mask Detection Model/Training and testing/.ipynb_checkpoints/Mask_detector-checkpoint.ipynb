{
 "cells": [
  {
   "cell_type": "code",
   "execution_count": 1,
   "metadata": {},
   "outputs": [],
   "source": [
    "# import the necessary packages\n",
    "from tensorflow.keras.preprocessing.image import ImageDataGenerator\n",
    "from tensorflow.keras.applications import MobileNetV2\n",
    "from tensorflow.keras.layers import AveragePooling2D\n",
    "from tensorflow.keras.layers import Dropout\n",
    "from tensorflow.keras.layers import Flatten\n",
    "from tensorflow.keras.layers import Dense\n",
    "from tensorflow.keras.layers import Input\n",
    "from tensorflow.keras.models import Model\n",
    "from tensorflow.keras.optimizers import Adam\n",
    "from tensorflow.keras.applications.mobilenet_v2 import preprocess_input\n",
    "from tensorflow.keras.preprocessing.image import img_to_array\n",
    "from tensorflow.keras.preprocessing.image import load_img\n",
    "from tensorflow.keras.utils import to_categorical\n",
    "from sklearn.preprocessing import LabelBinarizer\n",
    "from sklearn.model_selection import train_test_split\n",
    "from sklearn.metrics import classification_report\n",
    "from imutils import paths\n",
    "import matplotlib.pyplot as plt\n",
    "import numpy as np\n",
    "import os\n",
    "\n",
    "import warnings\n",
    "warnings.filterwarnings(\"ignore\")"
   ]
  },
  {
   "cell_type": "code",
   "execution_count": 2,
   "metadata": {},
   "outputs": [],
   "source": [
    "# initialize the initial learning rate, number of epochs to train for,\n",
    "# and batch size\n",
    "INIT_LR = 1e-4\n",
    "EPOCHS = 20\n",
    "BS = 32"
   ]
  },
  {
   "cell_type": "code",
   "execution_count": 3,
   "metadata": {},
   "outputs": [],
   "source": [
    "DIRECTORY = r\"/Users/user/Downloads/face/maskdata/maskdata/train\"\n",
    "CATEGORIES = [\"with_mask\", \"without_mask\"]"
   ]
  },
  {
   "cell_type": "code",
   "execution_count": 4,
   "metadata": {},
   "outputs": [
    {
     "name": "stdout",
     "output_type": "stream",
     "text": [
      "[INFO] loading images...\n"
     ]
    }
   ],
   "source": [
    "# grab the list of images in our dataset directory, then initialize\n",
    "# the list of data (i.e., images) and class images\n",
    "print(\"[INFO] loading images...\")"
   ]
  },
  {
   "cell_type": "code",
   "execution_count": 5,
   "metadata": {},
   "outputs": [],
   "source": [
    "data = []\n",
    "labels = []"
   ]
  },
  {
   "cell_type": "code",
   "execution_count": 6,
   "metadata": {},
   "outputs": [],
   "source": [
    "for category in CATEGORIES:\n",
    "    path = os.path.join(DIRECTORY, category)\n",
    "    for img in os.listdir(path):\n",
    "        img_path = os.path.join(path, img)\n",
    "        image = load_img(img_path, target_size=(224, 224))\n",
    "        image = img_to_array(image)\n",
    "        image = preprocess_input(image)\n",
    "\n",
    "        data.append(image)\n",
    "        labels.append(category)"
   ]
  },
  {
   "cell_type": "code",
   "execution_count": 7,
   "metadata": {},
   "outputs": [],
   "source": [
    "# perform one-hot encoding on the labels\n",
    "lb = LabelBinarizer()\n",
    "labels = lb.fit_transform(labels)\n",
    "labels = to_categorical(labels)"
   ]
  },
  {
   "cell_type": "code",
   "execution_count": 8,
   "metadata": {},
   "outputs": [],
   "source": [
    "data = np.array(data, dtype=\"float32\")\n",
    "labels = np.array(labels)"
   ]
  },
  {
   "cell_type": "code",
   "execution_count": 9,
   "metadata": {},
   "outputs": [],
   "source": [
    "# spliting the data \n",
    "(trainX, testX, trainY, testY) = train_test_split(data, labels,test_size=0.20, stratify=labels, random_state=42)"
   ]
  },
  {
   "cell_type": "code",
   "execution_count": 10,
   "metadata": {},
   "outputs": [],
   "source": [
    "# construct the training image generator for data augmentation\n",
    "aug = ImageDataGenerator(\n",
    "    rotation_range=20,\n",
    "    zoom_range=0.15,\n",
    "    width_shift_range=0.2,\n",
    "    height_shift_range=0.2,\n",
    "    shear_range=0.15,\n",
    "    horizontal_flip=True,\n",
    "    fill_mode=\"nearest\")"
   ]
  },
  {
   "cell_type": "code",
   "execution_count": 11,
   "metadata": {},
   "outputs": [
    {
     "name": "stdout",
     "output_type": "stream",
     "text": [
      "WARNING:tensorflow:`input_shape` is undefined or non-square, or `rows` is not in [96, 128, 160, 192, 224]. Weights for input shape (224, 224) will be loaded as the default.\n",
      "Downloading data from https://storage.googleapis.com/tensorflow/keras-applications/mobilenet_v2/mobilenet_v2_weights_tf_dim_ordering_tf_kernels_1.0_224_no_top.h5\n",
      "9412608/9406464 [==============================] - 1s 0us/step\n"
     ]
    }
   ],
   "source": [
    "# load the MobileNetV2 network, ensuring the head FC layer sets are\n",
    "# left off\n",
    "baseModel = MobileNetV2(weights=\"imagenet\", include_top=False,\n",
    "    input_tensor=Input(shape=(224, 224, 3)))  \n",
    "#224x224 is the size of image and 3 is the colour of image i.e. red green and blue "
   ]
  },
  {
   "cell_type": "code",
   "execution_count": 12,
   "metadata": {},
   "outputs": [],
   "source": [
    "# construct the head of the model that will be placed on top of the\n",
    "# the base model\n",
    "headModel = baseModel.output\n",
    "headModel = AveragePooling2D(pool_size=(7, 7))(headModel)\n",
    "headModel = Flatten(name=\"flatten\")(headModel)\n",
    "headModel = Dense(128, activation=\"relu\")(headModel)\n",
    "headModel = Dropout(0.5)(headModel)\n",
    "headModel = Dense(2, activation=\"softmax\")(headModel)"
   ]
  },
  {
   "cell_type": "code",
   "execution_count": 13,
   "metadata": {},
   "outputs": [],
   "source": [
    "# place the head FC model on top of the base model (this will become\n",
    "# the actual model we will train)\n",
    "model = Model(inputs=baseModel.input, outputs=headModel)"
   ]
  },
  {
   "cell_type": "code",
   "execution_count": 14,
   "metadata": {},
   "outputs": [],
   "source": [
    "# loop over all layers in the base model and freeze them so they will\n",
    "# *not* be updated during the first training process\n",
    "for layer in baseModel.layers:\n",
    "    layer.trainable = False"
   ]
  },
  {
   "cell_type": "code",
   "execution_count": 15,
   "metadata": {},
   "outputs": [],
   "source": [
    "# compile our model\n",
    "opt = Adam(lr=INIT_LR, decay=INIT_LR / EPOCHS)\n",
    "model.compile(loss=\"binary_crossentropy\", optimizer=opt,\n",
    "    metrics=[\"accuracy\"])"
   ]
  },
  {
   "cell_type": "code",
   "execution_count": 16,
   "metadata": {},
   "outputs": [
    {
     "name": "stdout",
     "output_type": "stream",
     "text": [
      "[INFO] training head...\n",
      "Epoch 1/20\n",
      "15/15 [==============================] - 47s 3s/step - loss: 0.6769 - accuracy: 0.6873 - val_loss: 0.3496 - val_accuracy: 0.9677\n",
      "Epoch 2/20\n",
      "15/15 [==============================] - 35s 2s/step - loss: 0.3651 - accuracy: 0.9283 - val_loss: 0.2168 - val_accuracy: 0.9758\n",
      "Epoch 3/20\n",
      "15/15 [==============================] - 37s 2s/step - loss: 0.2598 - accuracy: 0.9663 - val_loss: 0.1448 - val_accuracy: 0.9758\n",
      "Epoch 4/20\n",
      "15/15 [==============================] - 37s 2s/step - loss: 0.1791 - accuracy: 0.9661 - val_loss: 0.1065 - val_accuracy: 0.9758\n",
      "Epoch 5/20\n",
      "15/15 [==============================] - 37s 2s/step - loss: 0.1576 - accuracy: 0.9728 - val_loss: 0.0843 - val_accuracy: 0.9758\n",
      "Epoch 6/20\n",
      "15/15 [==============================] - 37s 2s/step - loss: 0.1301 - accuracy: 0.9775 - val_loss: 0.0697 - val_accuracy: 0.9758\n",
      "Epoch 7/20\n",
      "15/15 [==============================] - 36s 2s/step - loss: 0.0890 - accuracy: 0.9887 - val_loss: 0.0594 - val_accuracy: 0.9839\n",
      "Epoch 8/20\n",
      "15/15 [==============================] - 36s 2s/step - loss: 0.0749 - accuracy: 0.9854 - val_loss: 0.0519 - val_accuracy: 0.9839\n",
      "Epoch 9/20\n",
      "15/15 [==============================] - 39s 3s/step - loss: 0.0673 - accuracy: 0.9865 - val_loss: 0.0468 - val_accuracy: 0.9839\n",
      "Epoch 10/20\n",
      "15/15 [==============================] - 37s 2s/step - loss: 0.0577 - accuracy: 0.9950 - val_loss: 0.0424 - val_accuracy: 0.9839\n",
      "Epoch 11/20\n",
      "15/15 [==============================] - 35s 2s/step - loss: 0.0661 - accuracy: 0.9889 - val_loss: 0.0394 - val_accuracy: 0.9839\n",
      "Epoch 12/20\n",
      "15/15 [==============================] - 35s 2s/step - loss: 0.0557 - accuracy: 0.9844 - val_loss: 0.0367 - val_accuracy: 0.9839\n",
      "Epoch 13/20\n",
      "15/15 [==============================] - 36s 2s/step - loss: 0.0332 - accuracy: 0.9981 - val_loss: 0.0347 - val_accuracy: 0.9839\n",
      "Epoch 14/20\n",
      "15/15 [==============================] - 37s 2s/step - loss: 0.0416 - accuracy: 0.9927 - val_loss: 0.0339 - val_accuracy: 0.9839\n",
      "Epoch 15/20\n",
      "15/15 [==============================] - 37s 2s/step - loss: 0.0395 - accuracy: 0.9913 - val_loss: 0.0337 - val_accuracy: 0.9919\n",
      "Epoch 16/20\n",
      "15/15 [==============================] - 39s 3s/step - loss: 0.0285 - accuracy: 0.9991 - val_loss: 0.0324 - val_accuracy: 0.9919\n",
      "Epoch 17/20\n",
      "15/15 [==============================] - 39s 3s/step - loss: 0.0531 - accuracy: 0.9813 - val_loss: 0.0323 - val_accuracy: 0.9919\n",
      "Epoch 18/20\n",
      "15/15 [==============================] - 38s 3s/step - loss: 0.0249 - accuracy: 0.9972 - val_loss: 0.0304 - val_accuracy: 0.9919\n",
      "Epoch 19/20\n",
      "15/15 [==============================] - 37s 2s/step - loss: 0.0258 - accuracy: 0.9988 - val_loss: 0.0280 - val_accuracy: 0.9919\n",
      "Epoch 20/20\n",
      "15/15 [==============================] - 38s 3s/step - loss: 0.0390 - accuracy: 0.9920 - val_loss: 0.0272 - val_accuracy: 0.9919\n"
     ]
    }
   ],
   "source": [
    "# train the head of the network\n",
    "print(\"[INFO] training head...\")\n",
    "H = model.fit(\n",
    "    aug.flow(trainX, trainY, batch_size=BS),\n",
    "    steps_per_epoch=len(trainX) // BS,\n",
    "    validation_data=(testX, testY),\n",
    "    validation_steps=len(testX) // BS,\n",
    "    epochs=EPOCHS)"
   ]
  },
  {
   "cell_type": "code",
   "execution_count": 17,
   "metadata": {},
   "outputs": [],
   "source": [
    "# make predictions on the testing set\n",
    "predIdxs = model.predict(testX, batch_size=BS)"
   ]
  },
  {
   "cell_type": "code",
   "execution_count": 18,
   "metadata": {},
   "outputs": [],
   "source": [
    "# for each image in the testing set we need to find the index of the\n",
    "# label with corresponding largest predicted probability\n",
    "predIdxs = np.argmax(predIdxs, axis=1)"
   ]
  },
  {
   "cell_type": "code",
   "execution_count": 19,
   "metadata": {},
   "outputs": [
    {
     "name": "stdout",
     "output_type": "stream",
     "text": [
      "              precision    recall  f1-score   support\n",
      "\n",
      "   with_mask       0.99      1.00      0.99        69\n",
      "without_mask       1.00      0.98      0.99        55\n",
      "\n",
      "    accuracy                           0.99       124\n",
      "   macro avg       0.99      0.99      0.99       124\n",
      "weighted avg       0.99      0.99      0.99       124\n",
      "\n"
     ]
    }
   ],
   "source": [
    "# show a nicely formatted classification report\n",
    "print(classification_report(testY.argmax(axis=1), predIdxs,\n",
    "    target_names=lb.classes_))"
   ]
  },
  {
   "cell_type": "code",
   "execution_count": 22,
   "metadata": {},
   "outputs": [],
   "source": [
    "# serialize the model to disk\n",
    "model.save(\"mask_detector_BE.model\", save_format=\"h5\")"
   ]
  },
  {
   "cell_type": "code",
   "execution_count": 23,
   "metadata": {},
   "outputs": [
    {
     "data": {
      "image/png": "[encoded data removed]",
      "text/plain": [
       "<Figure size 432x288 with 1 Axes>"
      ]
     },
     "metadata": {},
     "output_type": "display_data"
    }
   ],
   "source": [
    "# plot the training loss and accuracy\n",
    "N = EPOCHS\n",
    "plt.style.use(\"ggplot\")\n",
    "plt.figure()\n",
    "plt.plot(np.arange(0, N), H.history[\"loss\"], label=\"train_loss\")\n",
    "plt.plot(np.arange(0, N), H.history[\"val_loss\"], label=\"val_loss\")\n",
    "plt.plot(np.arange(0, N), H.history[\"accuracy\"], label=\"train_acc\")\n",
    "plt.plot(np.arange(0, N), H.history[\"val_accuracy\"], label=\"val_acc\")\n",
    "plt.title(\"Training Loss and Accuracy\")\n",
    "plt.xlabel(\"Epoch #\")\n",
    "plt.ylabel(\"Loss/Accuracy\")\n",
    "plt.legend(loc=\"lower left\")\n",
    "plt.savefig(\"plot.png\")"
   ]
  },
  {
   "cell_type": "code",
   "execution_count": null,
   "metadata": {},
   "outputs": [],
   "source": []
  }
 ],
 "metadata": {
  "kernelspec": {
   "display_name": "Python 3",
   "language": "python",
   "name": "python3"
  },
  "language_info": {
   "codemirror_mode": {
    "name": "ipython",
    "version": 3
   },
   "file_extension": ".py",
   "mimetype": "text/x-python",
   "name": "python",
   "nbconvert_exporter": "python",
   "pygments_lexer": "ipython3",
   "version": "3.8.5"
  }
 },
 "nbformat": 4,
 "nbformat_minor": 4
}
